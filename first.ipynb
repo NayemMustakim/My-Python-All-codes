{
 "cells": [
  {
   "cell_type": "code",
   "execution_count": 1,
   "id": "3d623bec",
   "metadata": {},
   "outputs": [
    {
     "name": "stdout",
     "output_type": "stream",
     "text": [
      "Hello World!\n"
     ]
    }
   ],
   "source": [
    "print(\"Hello World!\")"
   ]
  },
  {
   "cell_type": "code",
   "execution_count": 3,
   "id": "6da02ef4",
   "metadata": {},
   "outputs": [
    {
     "name": "stdout",
     "output_type": "stream",
     "text": [
      "8\n"
     ]
    }
   ],
   "source": [
    "x=5\n",
    "y=3\n",
    "print(x+y)"
   ]
  },
  {
   "cell_type": "code",
   "execution_count": 4,
   "id": "b356fd33",
   "metadata": {},
   "outputs": [],
   "source": [
    "name=\"ml lab\""
   ]
  },
  {
   "cell_type": "code",
   "execution_count": 9,
   "id": "d1e78445",
   "metadata": {},
   "outputs": [
    {
     "name": "stdout",
     "output_type": "stream",
     "text": [
      "Nayem Islam\n"
     ]
    }
   ],
   "source": [
    "print(name)"
   ]
  },
  {
   "cell_type": "code",
   "execution_count": 8,
   "id": "1acc997b",
   "metadata": {},
   "outputs": [],
   "source": [
    "name=\"Nayem Islam\""
   ]
  },
  {
   "cell_type": "code",
   "execution_count": 5,
   "id": "e1132bcd",
   "metadata": {},
   "outputs": [],
   "source": [
    "age=\"25\"\n",
    "print=(age)"
   ]
  }
 ],
 "metadata": {
  "kernelspec": {
   "display_name": "Python 3 (ipykernel)",
   "language": "python",
   "name": "python3"
  },
  "language_info": {
   "codemirror_mode": {
    "name": "ipython",
    "version": 3
   },
   "file_extension": ".py",
   "mimetype": "text/x-python",
   "name": "python",
   "nbconvert_exporter": "python",
   "pygments_lexer": "ipython3",
   "version": "3.9.7"
  }
 },
 "nbformat": 4,
 "nbformat_minor": 5
}
